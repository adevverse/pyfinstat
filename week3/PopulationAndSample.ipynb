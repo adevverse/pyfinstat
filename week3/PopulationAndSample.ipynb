import pandas as pd
import numpy as np


# Create a Population DataFrame with 10 data 
data = pd.DataFrame()
data['Population'] = [47, 48, 85, 20, 19, 13, 72, 16, 50, 60]


# Draw sample with replacement, size=5 from Population
a_sample_with_replacement = data['Population'].sample(5, replace=True)
print(a_sample_with_replacement)

# Draw sample without replacement, size=5 from Population
a_sample_without_replacement = data['Population'].sample(5, replace=False)
print(a_sample_without_replacement)

# Parameters and Statistics
# Calculate mean and variance
population_mean = data['Population'].mean()
population_var = data['Population'].var(ddof=0)
population_std = data['Population'].std(ddof=0)
population_shape = data['Population'].shape[0]
print('Population mean is ', population_mean)
print('Population variance is', population_var)
print('Population std is', population_std)
print('Population shape size is', population_shape)

# Calculate sample mean and sample standard deviation, size =10
# You will get different mean and varince every time when you excecute the below code

a_sample = data['Population'].sample(10, replace=True)
sample_mean = a_sample.mean()
sample_var = a_sample.var()
sample_std = a_sample.std(ddof=0)
sample_shape = a_sample.shape[0]
print('Sample mean is ', sample_mean)
print('Sample variance is', sample_var)
print('Sample std is ', sample_std)
print('Sample  shape size is', sample_shape)

# Average of an unbiased estimator
sample_length = 500
sample_variance_collection=[data['Population'].sample(10, replace=True).var(ddof=1) for i in range(sample_length)]
